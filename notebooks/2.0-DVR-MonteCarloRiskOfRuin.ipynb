{
 "cells": [
  {
   "cell_type": "code",
   "execution_count": 1,
   "metadata": {},
   "outputs": [
    {
     "name": "stderr",
     "output_type": "stream",
     "text": [
      "/Users/lionelyoung/anaconda3/lib/python3.6/site-packages/statsmodels/compat/pandas.py:56: FutureWarning: The pandas.core.datetools module is deprecated and will be removed in a future version. Please use the pandas.tseries module instead.\n",
      "  from pandas.core import datetools\n"
     ]
    }
   ],
   "source": [
    "%matplotlib inline\n",
    "%load_ext autoreload\n",
    "%autoreload 2\n",
    "\n",
    "import datetime\n",
    "import sys\n",
    "import random\n",
    "import warnings\n",
    "warnings.filterwarnings(\"ignore\", category=DeprecationWarning)\n",
    "warnings.filterwarnings(\"ignore\", category=FutureWarning)\n",
    "\n",
    "# data\n",
    "import pandas as pd\n",
    "import seaborn as sns\n",
    "import numpy as np\n",
    "import matplotlib.pyplot as plt\n",
    "\n",
    "# ml\n",
    "sys.path.append('..')\n",
    "import decisiveml as dml"
   ]
  },
  {
   "cell_type": "code",
   "execution_count": 2,
   "metadata": {},
   "outputs": [],
   "source": [
    "# Assume CL futures margin\n",
    "margin = 5000\n",
    "\n",
    "start_date = datetime.date(2016, 1, 1)\n",
    "end_date = datetime.date(2018, 1, 1)"
   ]
  },
  {
   "cell_type": "code",
   "execution_count": 3,
   "metadata": {},
   "outputs": [
    {
     "data": {
      "text/plain": [
       "[<matplotlib.lines.Line2D at 0x1c11ea5780>]"
      ]
     },
     "execution_count": 3,
     "metadata": {},
     "output_type": "execute_result"
    },
    {
     "data": {
      "image/png": "[encoded data removed]",
      "text/plain": [
       "<matplotlib.figure.Figure at 0x104d9f7f0>"
      ]
     },
     "metadata": {},
     "output_type": "display_data"
    }
   ],
   "source": [
    "# We're going to generate a random list of trades,\n",
    "# and you should replace this with your walkforward list of trades\n",
    "trades_list = random.sample(range(-2000, 2300), 100)\n",
    "cumsum = np.asarray(trades_list).cumsum()\n",
    "plt.plot(cumsum)"
   ]
  },
  {
   "cell_type": "code",
   "execution_count": 4,
   "metadata": {},
   "outputs": [],
   "source": [
    "# Initialize\n",
    "mc = dml.MonteCarlo(trades_list)\n",
    "\n",
    "# We will sample with replacement the number of trades per year\n",
    "# so we need the start and end date to determine how many trades at in a year on average\n",
    "mc.settings(margin, start_date, end_date)\n",
    "\n",
    "# Test different levels of equity starting at this value\n",
    "trial_starting_equity = int(margin * 1.5)\n",
    "\n",
    "# Run the Monte Carlo\n",
    "results = mc.run(trial_starting_equity)"
   ]
  },
  {
   "cell_type": "code",
   "execution_count": 5,
   "metadata": {},
   "outputs": [
    {
     "name": "stdout",
     "output_type": "stream",
     "text": [
      "Recommend a starting equity of 11250.0, which has 9.3% Risk-of-Ruin, \n",
      "\t93% Probability-of-Profit and a 4.10 Returns/Drawdown Ratio\n",
      "Risk Assessment: PASSED\n",
      "MC-Drawdown: 29.7% MC-1.5x-DD: 44.5%\n",
      "Average monthly net profit: 558.7\n"
     ]
    },
    {
     "data": {
      "text/html": [
       "<div>\n",
       "<style scoped>\n",
       "    .dataframe tbody tr th:only-of-type {\n",
       "        vertical-align: middle;\n",
       "    }\n",
       "\n",
       "    .dataframe tbody tr th {\n",
       "        vertical-align: top;\n",
       "    }\n",
       "\n",
       "    .dataframe thead th {\n",
       "        text-align: right;\n",
       "    }\n",
       "</style>\n",
       "<table border=\"1\" class=\"dataframe\">\n",
       "  <thead>\n",
       "    <tr style=\"text-align: right;\">\n",
       "      <th></th>\n",
       "      <th>equity</th>\n",
       "      <th>is_ruined</th>\n",
       "      <th>is_profitable</th>\n",
       "      <th>returns_pct</th>\n",
       "      <th>drawdown_pct</th>\n",
       "      <th>returns_per_drawdown</th>\n",
       "    </tr>\n",
       "  </thead>\n",
       "  <tbody>\n",
       "    <tr>\n",
       "      <th>1</th>\n",
       "      <td>7500.0</td>\n",
       "      <td>33.16</td>\n",
       "      <td>93.52</td>\n",
       "      <td>185.0</td>\n",
       "      <td>39.201088</td>\n",
       "      <td>4.693435</td>\n",
       "    </tr>\n",
       "    <tr>\n",
       "      <th>2</th>\n",
       "      <td>9375.0</td>\n",
       "      <td>17.40</td>\n",
       "      <td>93.68</td>\n",
       "      <td>150.0</td>\n",
       "      <td>33.110400</td>\n",
       "      <td>4.476294</td>\n",
       "    </tr>\n",
       "    <tr>\n",
       "      <th>3</th>\n",
       "      <td>11250.0</td>\n",
       "      <td>9.32</td>\n",
       "      <td>93.16</td>\n",
       "      <td>121.0</td>\n",
       "      <td>29.691326</td>\n",
       "      <td>4.098214</td>\n",
       "    </tr>\n",
       "    <tr>\n",
       "      <th>4</th>\n",
       "      <td>13125.0</td>\n",
       "      <td>4.44</td>\n",
       "      <td>92.48</td>\n",
       "      <td>105.0</td>\n",
       "      <td>27.161016</td>\n",
       "      <td>3.909390</td>\n",
       "    </tr>\n",
       "    <tr>\n",
       "      <th>5</th>\n",
       "      <td>15000.0</td>\n",
       "      <td>2.16</td>\n",
       "      <td>93.92</td>\n",
       "      <td>91.0</td>\n",
       "      <td>23.554208</td>\n",
       "      <td>3.839563</td>\n",
       "    </tr>\n",
       "    <tr>\n",
       "      <th>6</th>\n",
       "      <td>16875.0</td>\n",
       "      <td>1.20</td>\n",
       "      <td>93.68</td>\n",
       "      <td>82.0</td>\n",
       "      <td>22.435409</td>\n",
       "      <td>3.734907</td>\n",
       "    </tr>\n",
       "    <tr>\n",
       "      <th>7</th>\n",
       "      <td>18750.0</td>\n",
       "      <td>0.28</td>\n",
       "      <td>94.16</td>\n",
       "      <td>75.0</td>\n",
       "      <td>20.607606</td>\n",
       "      <td>3.563883</td>\n",
       "    </tr>\n",
       "    <tr>\n",
       "      <th>8</th>\n",
       "      <td>20625.0</td>\n",
       "      <td>0.24</td>\n",
       "      <td>93.92</td>\n",
       "      <td>69.0</td>\n",
       "      <td>19.005157</td>\n",
       "      <td>3.585663</td>\n",
       "    </tr>\n",
       "    <tr>\n",
       "      <th>9</th>\n",
       "      <td>22500.0</td>\n",
       "      <td>0.04</td>\n",
       "      <td>93.60</td>\n",
       "      <td>61.0</td>\n",
       "      <td>17.768780</td>\n",
       "      <td>3.430220</td>\n",
       "    </tr>\n",
       "    <tr>\n",
       "      <th>10</th>\n",
       "      <td>24375.0</td>\n",
       "      <td>0.04</td>\n",
       "      <td>92.88</td>\n",
       "      <td>57.0</td>\n",
       "      <td>16.392062</td>\n",
       "      <td>3.456624</td>\n",
       "    </tr>\n",
       "    <tr>\n",
       "      <th>11</th>\n",
       "      <td>26250.0</td>\n",
       "      <td>0.00</td>\n",
       "      <td>94.92</td>\n",
       "      <td>53.0</td>\n",
       "      <td>15.728940</td>\n",
       "      <td>3.375866</td>\n",
       "    </tr>\n",
       "  </tbody>\n",
       "</table>\n",
       "</div>"
      ],
      "text/plain": [
       "     equity  is_ruined  is_profitable  returns_pct  drawdown_pct  \\\n",
       "1    7500.0      33.16          93.52        185.0     39.201088   \n",
       "2    9375.0      17.40          93.68        150.0     33.110400   \n",
       "3   11250.0       9.32          93.16        121.0     29.691326   \n",
       "4   13125.0       4.44          92.48        105.0     27.161016   \n",
       "5   15000.0       2.16          93.92         91.0     23.554208   \n",
       "6   16875.0       1.20          93.68         82.0     22.435409   \n",
       "7   18750.0       0.28          94.16         75.0     20.607606   \n",
       "8   20625.0       0.24          93.92         69.0     19.005157   \n",
       "9   22500.0       0.04          93.60         61.0     17.768780   \n",
       "10  24375.0       0.04          92.88         57.0     16.392062   \n",
       "11  26250.0       0.00          94.92         53.0     15.728940   \n",
       "\n",
       "    returns_per_drawdown  \n",
       "1               4.693435  \n",
       "2               4.476294  \n",
       "3               4.098214  \n",
       "4               3.909390  \n",
       "5               3.839563  \n",
       "6               3.734907  \n",
       "7               3.563883  \n",
       "8               3.585663  \n",
       "9               3.430220  \n",
       "10              3.456624  \n",
       "11              3.375866  "
      ]
     },
     "execution_count": 5,
     "metadata": {},
     "output_type": "execute_result"
    }
   ],
   "source": [
    "# Put the results in a dataframe so it's nicer to look at in notebook\n",
    "# Our goal is to get the highest equity below 10% Risk of Ruin\n",
    "df = pd.DataFrame(index=range(1,len(results)))\n",
    "count = 1\n",
    "for result in results:\n",
    "    df.loc[count, 'equity'] = result['equity']\n",
    "    df.loc[count, 'is_ruined'] = result['is_ruined']\n",
    "    df.loc[count, 'is_profitable'] = result['is_profitable']\n",
    "    df.loc[count, 'returns_pct'] = result['returns_pct']\n",
    "    df.loc[count, 'drawdown_pct'] = result['drawdown_pct']\n",
    "    df.loc[count, 'returns_per_drawdown'] = result['returns_per_drawdown']\n",
    "    count += 1\n",
    "\n",
    "# Get the recommended values\n",
    "recommended = df[df['is_ruined'] <= 10].iloc[0]\n",
    "print('Recommend a starting equity of {}, which has {:0.2}% Risk-of-Ruin, \\n\\t{:0.0f}% Probability-of-Profit and a {:0.2f} Returns/Drawdown Ratio'.format(\n",
    "                recommended['equity'], recommended['is_ruined'], \n",
    "                recommended['is_profitable'], recommended['returns_per_drawdown']))\n",
    "\n",
    "if recommended['is_ruined'] > 10 or recommended['returns_per_drawdown'] < 2.0:\n",
    "    print(\"Risk Assessment: FAILED\")\n",
    "else:\n",
    "    print(\"Risk Assessment: PASSED\")\n",
    "\n",
    "mc_1p5x = recommended['drawdown_pct'] * 1.5\n",
    "print(\"MC-Drawdown: {:0.1f}% MC-1.5x-DD: {:0.1f}%\".format(recommended['drawdown_pct'], mc_1p5x))\n",
    "\n",
    "profit = recommended['equity'] * recommended['returns_pct'] / 100\n",
    "months = (end_date - start_date).days/30\n",
    "average_monthly_net_profit = profit / months\n",
    "print(\"Average monthly net profit: {:0.1f}\".format(average_monthly_net_profit))\n",
    "\n",
    "df"
   ]
  },
  {
   "cell_type": "code",
   "execution_count": 6,
   "metadata": {},
   "outputs": [
    {
     "data": {
      "text/plain": [
       "[<matplotlib.lines.Line2D at 0x1c154330f0>]"
      ]
     },
     "execution_count": 6,
     "metadata": {},
     "output_type": "execute_result"
    },
    {
     "data": {
      "image/png": "[encoded data removed]",
      "text/plain": [
       "<matplotlib.figure.Figure at 0x1c11e62ba8>"
      ]
     },
     "metadata": {},
     "output_type": "display_data"
    }
   ],
   "source": [
    "plt.plot(cumsum + recommended['equity'])"
   ]
  }
 ],
 "metadata": {
  "kernelspec": {
   "display_name": "Python 3",
   "language": "python",
   "name": "python3"
  },
  "language_info": {
   "codemirror_mode": {
    "name": "ipython",
    "version": 3
   },
   "file_extension": ".py",
   "mimetype": "text/x-python",
   "name": "python",
   "nbconvert_exporter": "python",
   "pygments_lexer": "ipython3",
   "version": "3.6.4"
  },
  "toc": {
   "base_numbering": 1,
   "nav_menu": {},
   "number_sections": true,
   "sideBar": true,
   "skip_h1_title": false,
   "title_cell": "Table of Contents",
   "title_sidebar": "Contents",
   "toc_cell": false,
   "toc_position": {},
   "toc_section_display": true,
   "toc_window_display": false
  }
 },
 "nbformat": 4,
 "nbformat_minor": 2
}
