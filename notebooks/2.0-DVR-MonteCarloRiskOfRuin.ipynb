{
 "cells": [
  {
   "cell_type": "code",
   "execution_count": 1,
   "metadata": {},
   "outputs": [],
   "source": [
    "%matplotlib inline\n",
    "%load_ext autoreload\n",
    "%autoreload 2\n",
    "\n",
    "import datetime\n",
    "import sys\n",
    "import random\n",
    "import warnings\n",
    "warnings.filterwarnings(\"ignore\", category=DeprecationWarning)\n",
    "warnings.filterwarnings(\"ignore\", category=FutureWarning)\n",
    "\n",
    "# data\n",
    "import pandas as pd\n",
    "import seaborn as sns\n",
    "import numpy as np\n",
    "import matplotlib.pyplot as plt\n",
    "\n",
    "# ml\n",
    "sys.path.append('..')\n",
    "import decisiveml as dml"
   ]
  },
  {
   "cell_type": "code",
   "execution_count": 2,
   "metadata": {},
   "outputs": [],
   "source": [
    "# Assume CL futures margin\n",
    "margin = 5000\n",
    "\n",
    "start_date = datetime.date(2016, 1, 1)\n",
    "end_date = datetime.date(2018, 1, 1)"
   ]
  },
  {
   "cell_type": "code",
   "execution_count": 3,
   "metadata": {},
   "outputs": [
    {
     "data": {
      "text/plain": [
       "[<matplotlib.lines.Line2D at 0x11367e7b8>]"
      ]
     },
     "execution_count": 3,
     "metadata": {},
     "output_type": "execute_result"
    },
    {
     "data": {
      "image/png": "[encoded data removed]",
      "text/plain": [
       "<matplotlib.figure.Figure at 0x1081027f0>"
      ]
     },
     "metadata": {},
     "output_type": "display_data"
    }
   ],
   "source": [
    "# We're going to generate a random list of trades,\n",
    "# and you should replace this with your walkforward list of trades\n",
    "trades_list = random.sample(range(-2000, 2300), 100)\n",
    "cumsum = np.asarray(trades_list).cumsum()\n",
    "plt.plot(cumsum)"
   ]
  },
  {
   "cell_type": "code",
   "execution_count": 4,
   "metadata": {},
   "outputs": [],
   "source": [
    "# Initialize\n",
    "mc = dml.MonteCarlo(trades_list)\n",
    "\n",
    "# We will sample with replacement the number of trades per year\n",
    "# so we need the start and end date to determine how many trades at in a year on average\n",
    "mc.settings(margin, start_date, end_date)\n",
    "\n",
    "# Test different levels of equity starting at this value\n",
    "trial_starting_equity = int(margin * 1.5)\n",
    "\n",
    "# Run the Monte Carlo\n",
    "results = mc.run(trial_starting_equity)"
   ]
  },
  {
   "cell_type": "code",
   "execution_count": 5,
   "metadata": {},
   "outputs": [
    {
     "name": "stdout",
     "output_type": "stream",
     "text": [
      "Recommend a starting equity of 15000.0, which has 5.9% Risk-of-Ruin, \n",
      "\t81% Probability-of-Profit and a 1.65 Returns/Drawdown Ratio\n",
      "Risk Assessment: FAILED\n",
      "MC-Drawdown: 30.2% MC-1.5x-DD: 45.2%\n",
      "Average monthly net profit: 307.8\n"
     ]
    },
    {
     "data": {
      "text/html": [
       "<div>\n",
       "<style scoped>\n",
       "    .dataframe tbody tr th:only-of-type {\n",
       "        vertical-align: middle;\n",
       "    }\n",
       "\n",
       "    .dataframe tbody tr th {\n",
       "        vertical-align: top;\n",
       "    }\n",
       "\n",
       "    .dataframe thead th {\n",
       "        text-align: right;\n",
       "    }\n",
       "</style>\n",
       "<table border=\"1\" class=\"dataframe\">\n",
       "  <thead>\n",
       "    <tr style=\"text-align: right;\">\n",
       "      <th></th>\n",
       "      <th>equity</th>\n",
       "      <th>is_ruined</th>\n",
       "      <th>is_profitable</th>\n",
       "      <th>returns_pct</th>\n",
       "      <th>drawdown_pct</th>\n",
       "      <th>returns_per_drawdown</th>\n",
       "    </tr>\n",
       "  </thead>\n",
       "  <tbody>\n",
       "    <tr>\n",
       "      <th>1</th>\n",
       "      <td>7500.0</td>\n",
       "      <td>51.12</td>\n",
       "      <td>78.00</td>\n",
       "      <td>91.0</td>\n",
       "      <td>52.234895</td>\n",
       "      <td>1.684248</td>\n",
       "    </tr>\n",
       "    <tr>\n",
       "      <th>2</th>\n",
       "      <td>9375.0</td>\n",
       "      <td>31.56</td>\n",
       "      <td>78.52</td>\n",
       "      <td>73.0</td>\n",
       "      <td>44.166742</td>\n",
       "      <td>1.652892</td>\n",
       "    </tr>\n",
       "    <tr>\n",
       "      <th>3</th>\n",
       "      <td>11250.0</td>\n",
       "      <td>18.36</td>\n",
       "      <td>79.88</td>\n",
       "      <td>63.0</td>\n",
       "      <td>37.870330</td>\n",
       "      <td>1.668767</td>\n",
       "    </tr>\n",
       "    <tr>\n",
       "      <th>4</th>\n",
       "      <td>13125.0</td>\n",
       "      <td>11.44</td>\n",
       "      <td>79.64</td>\n",
       "      <td>54.0</td>\n",
       "      <td>33.437929</td>\n",
       "      <td>1.610903</td>\n",
       "    </tr>\n",
       "    <tr>\n",
       "      <th>5</th>\n",
       "      <td>15000.0</td>\n",
       "      <td>5.88</td>\n",
       "      <td>80.52</td>\n",
       "      <td>50.0</td>\n",
       "      <td>30.165863</td>\n",
       "      <td>1.654475</td>\n",
       "    </tr>\n",
       "    <tr>\n",
       "      <th>6</th>\n",
       "      <td>16875.0</td>\n",
       "      <td>3.56</td>\n",
       "      <td>79.24</td>\n",
       "      <td>43.0</td>\n",
       "      <td>27.685320</td>\n",
       "      <td>1.515129</td>\n",
       "    </tr>\n",
       "    <tr>\n",
       "      <th>7</th>\n",
       "      <td>18750.0</td>\n",
       "      <td>1.48</td>\n",
       "      <td>80.00</td>\n",
       "      <td>38.0</td>\n",
       "      <td>25.447673</td>\n",
       "      <td>1.495018</td>\n",
       "    </tr>\n",
       "    <tr>\n",
       "      <th>8</th>\n",
       "      <td>20625.0</td>\n",
       "      <td>0.96</td>\n",
       "      <td>80.32</td>\n",
       "      <td>34.0</td>\n",
       "      <td>23.389257</td>\n",
       "      <td>1.446991</td>\n",
       "    </tr>\n",
       "    <tr>\n",
       "      <th>9</th>\n",
       "      <td>22500.0</td>\n",
       "      <td>0.40</td>\n",
       "      <td>79.96</td>\n",
       "      <td>32.0</td>\n",
       "      <td>21.974094</td>\n",
       "      <td>1.450085</td>\n",
       "    </tr>\n",
       "    <tr>\n",
       "      <th>10</th>\n",
       "      <td>24375.0</td>\n",
       "      <td>0.16</td>\n",
       "      <td>80.48</td>\n",
       "      <td>29.0</td>\n",
       "      <td>20.620572</td>\n",
       "      <td>1.403772</td>\n",
       "    </tr>\n",
       "    <tr>\n",
       "      <th>11</th>\n",
       "      <td>26250.0</td>\n",
       "      <td>0.04</td>\n",
       "      <td>80.68</td>\n",
       "      <td>26.0</td>\n",
       "      <td>19.740159</td>\n",
       "      <td>1.268008</td>\n",
       "    </tr>\n",
       "  </tbody>\n",
       "</table>\n",
       "</div>"
      ],
      "text/plain": [
       "     equity  is_ruined  is_profitable  returns_pct  drawdown_pct  \\\n",
       "1    7500.0      51.12          78.00         91.0     52.234895   \n",
       "2    9375.0      31.56          78.52         73.0     44.166742   \n",
       "3   11250.0      18.36          79.88         63.0     37.870330   \n",
       "4   13125.0      11.44          79.64         54.0     33.437929   \n",
       "5   15000.0       5.88          80.52         50.0     30.165863   \n",
       "6   16875.0       3.56          79.24         43.0     27.685320   \n",
       "7   18750.0       1.48          80.00         38.0     25.447673   \n",
       "8   20625.0       0.96          80.32         34.0     23.389257   \n",
       "9   22500.0       0.40          79.96         32.0     21.974094   \n",
       "10  24375.0       0.16          80.48         29.0     20.620572   \n",
       "11  26250.0       0.04          80.68         26.0     19.740159   \n",
       "\n",
       "    returns_per_drawdown  \n",
       "1               1.684248  \n",
       "2               1.652892  \n",
       "3               1.668767  \n",
       "4               1.610903  \n",
       "5               1.654475  \n",
       "6               1.515129  \n",
       "7               1.495018  \n",
       "8               1.446991  \n",
       "9               1.450085  \n",
       "10              1.403772  \n",
       "11              1.268008  "
      ]
     },
     "execution_count": 5,
     "metadata": {},
     "output_type": "execute_result"
    }
   ],
   "source": [
    "# Put the results in a dataframe so it's nicer to look at in notebook\n",
    "# Our goal is to get the highest equity below 10% Risk of Ruin\n",
    "df = pd.DataFrame(index=range(1,len(results)))\n",
    "count = 1\n",
    "for result in results:\n",
    "    df.loc[count, 'equity'] = result['equity']\n",
    "    df.loc[count, 'is_ruined'] = result['is_ruined']\n",
    "    df.loc[count, 'is_profitable'] = result['is_profitable']\n",
    "    df.loc[count, 'returns_pct'] = result['returns_pct']\n",
    "    df.loc[count, 'drawdown_pct'] = result['drawdown_pct']\n",
    "    df.loc[count, 'returns_per_drawdown'] = result['returns_per_drawdown']\n",
    "    count += 1\n",
    "\n",
    "# Get the recommended values\n",
    "recommended = df[df['is_ruined'] <= 10].iloc[0]\n",
    "print('Recommend a starting equity of {}, which has {:0.2}% Risk-of-Ruin, \\n\\t{:0.0f}% Probability-of-Profit and a {:0.2f} Returns/Drawdown Ratio'.format(\n",
    "                recommended['equity'], recommended['is_ruined'], \n",
    "                recommended['is_profitable'], recommended['returns_per_drawdown']))\n",
    "\n",
    "if recommended['is_ruined'] > 10 or recommended['returns_per_drawdown'] < 2.0:\n",
    "    print(\"Risk Assessment: FAILED\")\n",
    "else:\n",
    "    print(\"Risk Assessment: PASSED\")\n",
    "\n",
    "mc_1p5x = recommended['drawdown_pct'] * 1.5\n",
    "print(\"MC-Drawdown: {:0.1f}% MC-1.5x-DD: {:0.1f}%\".format(recommended['drawdown_pct'], mc_1p5x))\n",
    "\n",
    "profit = recommended['equity'] * recommended['returns_pct'] / 100\n",
    "months = (end_date - start_date).days/30\n",
    "average_monthly_net_profit = profit / months\n",
    "print(\"Average monthly net profit: {:0.1f}\".format(average_monthly_net_profit))\n",
    "\n",
    "df"
   ]
  },
  {
   "cell_type": "code",
   "execution_count": 6,
   "metadata": {},
   "outputs": [
    {
     "data": {
      "text/plain": [
       "[<matplotlib.lines.Line2D at 0x11393e4e0>]"
      ]
     },
     "execution_count": 6,
     "metadata": {},
     "output_type": "execute_result"
    },
    {
     "data": {
      "image/png": "[encoded data removed]",
      "text/plain": [
       "<matplotlib.figure.Figure at 0x11363a7b8>"
      ]
     },
     "metadata": {},
     "output_type": "display_data"
    }
   ],
   "source": [
    "plt.plot(cumsum + recommended['equity'])"
   ]
  }
 ],
 "metadata": {
  "kernelspec": {
   "display_name": "Python 3",
   "language": "python",
   "name": "python3"
  },
  "language_info": {
   "codemirror_mode": {
    "name": "ipython",
    "version": 3
   },
   "file_extension": ".py",
   "mimetype": "text/x-python",
   "name": "python",
   "nbconvert_exporter": "python",
   "pygments_lexer": "ipython3",
   "version": "3.6.4"
  },
  "toc": {
   "base_numbering": 1,
   "nav_menu": {},
   "number_sections": true,
   "sideBar": true,
   "skip_h1_title": false,
   "title_cell": "Table of Contents",
   "title_sidebar": "Contents",
   "toc_cell": false,
   "toc_position": {},
   "toc_section_display": true,
   "toc_window_display": false
  }
 },
 "nbformat": 4,
 "nbformat_minor": 2
}
